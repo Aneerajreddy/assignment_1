{
 "cells": [
  {
   "cell_type": "code",
   "execution_count": 78,
   "id": "cd6ae45c",
   "metadata": {},
   "outputs": [
    {
     "name": "stdout",
     "output_type": "stream",
     "text": [
      "sorted array: [19, 19, 20, 22, 24, 24, 24, 25, 25, 26]\n",
      "Maximum age: 26\n",
      "Minimum age: 19\n"
     ]
    }
   ],
   "source": [
    "# 1) Sort the list and find the min and max age\n",
    "# here we declare the function to check for maximum number\n",
    "def max(x):\n",
    "  max = x[0] \n",
    "  for i in x: \n",
    "    if i > max: \n",
    "      max = i\n",
    "  return max\n",
    "\n",
    "# here we declare the function to check for minimum number\n",
    "def min(x):\n",
    "  min = x[0] \n",
    "  for j in x: \n",
    "    if j < min: \n",
    "      min = j \n",
    "  return min\n",
    "\n",
    "#ages array\n",
    "ages = [19, 22, 19, 24, 20, 25, 26, 24, 25, 24]\n",
    "ages.sort()\n",
    "\n",
    "#final output of max and min age\n",
    "print(\"sorted array:\",ages)\n",
    "print(\"Maximum age:\", max(ages))\n",
    "print(\"Minimum age:\", min(ages))"
   ]
  },
  {
   "cell_type": "code",
   "execution_count": 79,
   "id": "94977e30",
   "metadata": {},
   "outputs": [
    {
     "name": "stdout",
     "output_type": "stream",
     "text": [
      "[19, 19, 19, 20, 22, 24, 24, 24, 25, 25, 26, 26]\n"
     ]
    }
   ],
   "source": [
    "#Add the min age and the max age again to the list\n",
    "ages.append(min(ages))\n",
    "ages.append(max(ages))\n",
    "ages.sort()\n",
    "print(ages)\n"
   ]
  },
  {
   "cell_type": "code",
   "execution_count": 80,
   "id": "50924902",
   "metadata": {},
   "outputs": [
    {
     "name": "stdout",
     "output_type": "stream",
     "text": [
      "sorted array [19, 19, 19, 20, 22, 24, 24, 24, 25, 25, 26, 26]\n",
      "Median of the ages list is : 24.0\n"
     ]
    }
   ],
   "source": [
    "#Find the median age (one middle item or two middle items divided by two)\n",
    "print(\"sorted array\",ages)\n",
    "mid = len(ages) // 2\n",
    "res = (ages[mid] + ages[~mid]) / 2\n",
    "  \n",
    "# Printing result\n",
    "print(\"Median of the ages list is : \" + str(res))"
   ]
  },
  {
   "cell_type": "code",
   "execution_count": 81,
   "id": "ca4cb0ff",
   "metadata": {},
   "outputs": [
    {
     "name": "stdout",
     "output_type": "stream",
     "text": [
      "ages array list :  [19, 19, 19, 20, 22, 24, 24, 24, 25, 25, 26, 26]\n",
      "Average age = 22.75\n"
     ]
    }
   ],
   "source": [
    "#Find the average age (sum of all items divided by their number)\n",
    "\n",
    "def Average(ages):\n",
    "    return sum(ages) / len(ages)\n",
    "  \n",
    "# Driver Code\n",
    "average = Average(ages)\n",
    "print(\"ages array list : \",ages)\n",
    "  \n",
    "#average age\n",
    "print(\"Average age =\", round(average, 2))\n"
   ]
  },
  {
   "cell_type": "code",
   "execution_count": 82,
   "id": "96ead0c3",
   "metadata": {},
   "outputs": [
    {
     "name": "stdout",
     "output_type": "stream",
     "text": [
      "min 19 0\n",
      "max 26 6\n",
      "Range :  7\n"
     ]
    }
   ],
   "source": [
    "#Find the range of the ages (max minus min)\n",
    "ages = [19, 22, 19, 24, 20, 25, 26, 24, 25, 24]\n",
    "temp = sorted(ages)\n",
    "\n",
    "# sorted list\n",
    "\n",
    "min = temp[0]\n",
    "max = temp[-1]\n",
    "\n",
    "# index -1 will give the last element\n",
    "\n",
    "print (\"min\", min, ages.index(min))\n",
    "print (\"max\", max, ages.index(max))\n",
    "print (\"Range : \", max - min)"
   ]
  }
 ],
 "metadata": {
  "kernelspec": {
   "display_name": "Python 3 (ipykernel)",
   "language": "python",
   "name": "python3"
  },
  "language_info": {
   "codemirror_mode": {
    "name": "ipython",
    "version": 3
   },
   "file_extension": ".py",
   "mimetype": "text/x-python",
   "name": "python",
   "nbconvert_exporter": "python",
   "pygments_lexer": "ipython3",
   "version": "3.9.7"
  }
 },
 "nbformat": 4,
 "nbformat_minor": 5
}
