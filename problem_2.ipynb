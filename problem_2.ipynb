{
 "cells": [
  {
   "cell_type": "code",
   "execution_count": 1,
   "id": "1ee4ef1c",
   "metadata": {},
   "outputs": [],
   "source": [
    "#Create an empty dictionary called dog\n",
    "dog = {}"
   ]
  },
  {
   "cell_type": "code",
   "execution_count": 2,
   "id": "8ab761eb",
   "metadata": {},
   "outputs": [],
   "source": [
    "#Add name, color, breed, legs, age to the dog dictionary\n",
    "dog = {'name','color','breed','legs','age'}"
   ]
  },
  {
   "cell_type": "code",
   "execution_count": 3,
   "id": "1743d5c2",
   "metadata": {},
   "outputs": [],
   "source": [
    "#Create a student dictionary and add first_name, last_name, gender, age, marital status,\n",
    "#skills, country, city and address as keys for the dictionary\n",
    "student = {'first_name','last_name','gender','age','marital status','skills','country','city','address'}"
   ]
  },
  {
   "cell_type": "code",
   "execution_count": 4,
   "id": "b79c378f",
   "metadata": {},
   "outputs": [
    {
     "name": "stdout",
     "output_type": "stream",
     "text": [
      "9\n"
     ]
    }
   ],
   "source": [
    "#Get the length of the student dictionary\n",
    "student = {'first_name','last_name','gender','age','marital status','skills','country','city','address'}\n",
    "print(len(student))"
   ]
  },
  {
   "cell_type": "code",
   "execution_count": 5,
   "id": "ff0c232f",
   "metadata": {},
   "outputs": [
    {
     "name": "stdout",
     "output_type": "stream",
     "text": [
      "None\n",
      "united states\n",
      "['mean stack development', 'java', 'machine learning']\n",
      "kansas\n"
     ]
    }
   ],
   "source": [
    "#Get the value of skills and check the data type, it should be a list\n",
    "student = {'first_name ': 'neeraj reddy','last_name': 'allam','gender': 'male','age': '24','marital status': 'single','skills':['mean stack development', 'java', 'machine learning'],'country':'united states','city':'kansas','address':'overland park'}\n",
    "print(student.get('first_name')) \n",
    "print(student.get('country'))    \n",
    "print(student.get('skills')) \n",
    "print(student.get('city'))"
   ]
  },
  {
   "cell_type": "code",
   "execution_count": 7,
   "id": "eaac123c",
   "metadata": {},
   "outputs": [
    {
     "name": "stdout",
     "output_type": "stream",
     "text": [
      "{'first_name ': 'neeraj reddy', 'last_name': 'allam', 'gender': 'male', 'age': '24', 'marital status': 'single', 'skills': ['mean stack development', 'java', 'machine learning', 'java script'], 'country': 'united states', 'city': 'kansas', 'address': 'overland park', 'students': 'studying'}\n"
     ]
    }
   ],
   "source": [
    "#Modify the skills values by adding one or two skills\n",
    "student = {'first_name ': 'neeraj reddy','last_name': 'allam','gender': 'male','age': '24','marital status': 'single','skills':['mean stack development', 'java', 'machine learning'],'country':'united states','city':'kansas','address':'overland park'}\n",
    "student['students'] = 'studying'\n",
    "student['skills'].append('java script')\n",
    "print(student)\n",
    "\n",
    "\n"
   ]
  },
  {
   "cell_type": "code",
   "execution_count": 8,
   "id": "6aaed2a7",
   "metadata": {},
   "outputs": [
    {
     "name": "stdout",
     "output_type": "stream",
     "text": [
      "dict_keys(['first_name ', 'last_name', 'gender', 'age', 'marital status', 'skills', 'country', 'city', 'address'])\n"
     ]
    }
   ],
   "source": [
    "#Get the dictionary keys as a list\n",
    "student = {'first_name ': 'neeraj reddy','last_name': 'allam','gender': 'male','age': '24','marital status': 'single','skills':['mean stack development', 'java', 'machine learning'],'country':'united states','city':'kansas','address':'overland park'}\n",
    "keys = student.keys()\n",
    "print(keys)   "
   ]
  },
  {
   "cell_type": "code",
   "execution_count": 9,
   "id": "50ab28f8",
   "metadata": {},
   "outputs": [
    {
     "name": "stdout",
     "output_type": "stream",
     "text": [
      "dict_values(['neeraj reddy', 'allam', 'male', '24', 'single', ['mean stack development', 'java', 'machine learning'], 'united states', 'kansas', 'overland park'])\n"
     ]
    }
   ],
   "source": [
    "#Get the dictionary values as a list\n",
    "student = {'first_name ': 'neeraj reddy','last_name': 'allam','gender': 'male','age': '24','marital status': 'single','skills':['mean stack development', 'java', 'machine learning'],'country':'united states','city':'kansas','address':'overland park'}\n",
    "values = student.values()\n",
    "print(values)"
   ]
  },
  {
   "cell_type": "code",
   "execution_count": null,
   "id": "58c7f1dc",
   "metadata": {},
   "outputs": [],
   "source": []
  }
 ],
 "metadata": {
  "kernelspec": {
   "display_name": "Python 3 (ipykernel)",
   "language": "python",
   "name": "python3"
  },
  "language_info": {
   "codemirror_mode": {
    "name": "ipython",
    "version": 3
   },
   "file_extension": ".py",
   "mimetype": "text/x-python",
   "name": "python",
   "nbconvert_exporter": "python",
   "pygments_lexer": "ipython3",
   "version": "3.9.7"
  }
 },
 "nbformat": 4,
 "nbformat_minor": 5
}
