{
 "cells": [
  {
   "cell_type": "code",
   "execution_count": 1,
   "id": "a87b400e",
   "metadata": {},
   "outputs": [],
   "source": [
    "#Create a tuple containing names of your sisters and your brothers (imaginary siblings are fine)\n",
    "cousins1 = ('rahul', 'varun', 'joseph')\n",
    "cousins2 = ('priyanka', 'satwika', 'anusha')"
   ]
  },
  {
   "cell_type": "code",
   "execution_count": 4,
   "id": "e88db85b",
   "metadata": {},
   "outputs": [
    {
     "name": "stdout",
     "output_type": "stream",
     "text": [
      "('rahul', 'varun', 'joseph', 'priyanka', 'satwika', 'anusha')\n"
     ]
    }
   ],
   "source": [
    "#Join brothers and sisters tuples and assign it to siblings\n",
    "cousins1 = ('rahul', 'varun', 'joseph')\n",
    "cousins2 = ('priyanka', 'satwika', 'anusha')\n",
    "siblings = cousins1 + cousins2\n",
    "print(siblings)\n"
   ]
  },
  {
   "cell_type": "code",
   "execution_count": 5,
   "id": "58e753f6",
   "metadata": {},
   "outputs": [
    {
     "data": {
      "text/plain": [
       "6"
      ]
     },
     "execution_count": 5,
     "metadata": {},
     "output_type": "execute_result"
    }
   ],
   "source": [
    "#How many siblings do you have?\n",
    "len(siblings)"
   ]
  },
  {
   "cell_type": "code",
   "execution_count": 7,
   "id": "b3a5b770",
   "metadata": {},
   "outputs": [
    {
     "name": "stdout",
     "output_type": "stream",
     "text": [
      "family members: ('papireddy', 'swarna', 'papireddy', 'swarna', 'rahul', 'varun', 'joseph', 'priyanka', 'satwika', 'anusha')\n"
     ]
    }
   ],
   "source": [
    "#Modify the siblings tuple and add the name of your father and mother and assign it to family_members\n",
    "siblings = (\"papireddy\",\"swarna\")+siblings\n",
    "family_members = siblings\n",
    "print(\"family members:\",family_members)\n"
   ]
  },
  {
   "cell_type": "code",
   "execution_count": null,
   "id": "bb25facf",
   "metadata": {},
   "outputs": [],
   "source": []
  }
 ],
 "metadata": {
  "kernelspec": {
   "display_name": "Python 3 (ipykernel)",
   "language": "python",
   "name": "python3"
  },
  "language_info": {
   "codemirror_mode": {
    "name": "ipython",
    "version": 3
   },
   "file_extension": ".py",
   "mimetype": "text/x-python",
   "name": "python",
   "nbconvert_exporter": "python",
   "pygments_lexer": "ipython3",
   "version": "3.9.7"
  }
 },
 "nbformat": 4,
 "nbformat_minor": 5
}
